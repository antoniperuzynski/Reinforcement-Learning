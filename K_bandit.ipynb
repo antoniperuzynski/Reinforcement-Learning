{
 "cells": [
  {
   "cell_type": "markdown",
   "metadata": {},
   "source": [
    "# K-armed bandit\n",
    "This notebook implements k-armed bandit and four agents:\n",
    "- Random agent\n",
    "- $\\epsilon$-greedy agent\n",
    "- Optimistic agent\n",
    "- Upper confidence bound agent\n",
    "\n",
    "The purpose of the notebook is to get you a good understanding of:\n",
    "- K-armed bandit problems\n",
    "- Exploration vs exploitation tradeoff\n",
    "- $\\epsilon$-greedy action selection method\n",
    "- Optimistic action selection method\n",
    "- Upper confidence bound action selection method\n",
    "\n",
    "## This is a graded assignment\n",
    "To pass the assinment, you are expected to:\n",
    "- perform all the code tasks, namely implement optimistic and ucb agents\n",
    "- understand the topics behind this code, that were covered in a lecture\n",
    "- present your code to the teacher and answer the questions\n",
    "\n",
    "### Related reading from the Reinforcement Learning book\n",
    "- Chapter 2-2.7 (Pages 25-36)\n"
   ]
  },
  {
   "cell_type": "code",
   "execution_count": 1,
   "metadata": {},
   "outputs": [],
   "source": [
    "import numpy as np\n",
    "import pandas as pd\n",
    "from tqdm import tqdm\n",
    "\n",
    "import matplotlib.pyplot as plt\n",
    "%matplotlib inline"
   ]
  },
  {
   "cell_type": "markdown",
   "metadata": {},
   "source": [
    "### Bandit class\n",
    "This class implements a k-armed bandit"
   ]
  },
  {
   "cell_type": "code",
   "execution_count": 2,
   "metadata": {},
   "outputs": [],
   "source": [
    "class Bandit:\n",
    "    def __init__(self, q_star, stddev = 2):  \n",
    "        \"\"\"\n",
    "            Arguments:\n",
    "                k      - number of arms\n",
    "                minq   - minimum value of q_star for each arm\n",
    "                maxq   - maximum value of q_star for each arm\n",
    "                stddev - standard deviation that randomize the values while action is executed\n",
    "        \"\"\"\n",
    "        self.stddev = stddev\n",
    "        self.q_star = q_star\n",
    "                \n",
    "    def execute(self, arm):\n",
    "        \"\"\"\n",
    "        Returns the state of the bandit (randomly seleted value for a given arm)\n",
    "        Arguments:\n",
    "            arm - number of arm to be pulled\n",
    "        \"\"\"\n",
    "        return self.q_star[arm] + np.random.normal(scale=self.stddev)\n",
    "    \n",
    "    \n",
    "    "
   ]
  },
  {
   "cell_type": "markdown",
   "metadata": {},
   "source": [
    "Create a bandit object"
   ]
  },
  {
   "cell_type": "code",
   "execution_count": 3,
   "metadata": {},
   "outputs": [
    {
     "name": "stdout",
     "output_type": "stream",
     "text": [
      "[1, 0, 5, 3, 2, 1, 4, 3, 2, 6]\n"
     ]
    },
    {
     "data": {
      "text/plain": [
       "4.70663164519667"
      ]
     },
     "execution_count": 3,
     "metadata": {},
     "output_type": "execute_result"
    }
   ],
   "source": [
    "bandit = Bandit([1, 0, 5, 3, 2, 1, 4, 3, 2, 6])\n",
    "print (bandit.q_star)\n",
    "bandit.execute(3)"
   ]
  },
  {
   "cell_type": "markdown",
   "metadata": {},
   "source": [
    "### Random agent\n",
    "Agent that acts randomly\n",
    "\n",
    "Parameters:\n",
    "- `q_est` - estimated $q_{\\star}$ values for each arm\n",
    "- `n` - how many times each arm was selected\n",
    "\n",
    "Methods:\n",
    "- `act(self, bandit)` - performs an action (selects an arm randomly) and updates coresponding $Q$ and $n$ values. $Q$ is updated according to the formula:\n",
    "\n",
    "$Q_{n+1} = Q{n} + \\frac{1}{n}(R_n-Q_n)$\n",
    "\n",
    "where:\n",
    "- $Q_{n}$ - current estimated $q_{\\star}$ value\n",
    "- $Q_{n+1}$ - new estimated $q_{\\star}$ value\n",
    "- $R_n$ - reward obtained for an action $n$\n",
    "- $n$ - number of actions (computed separately for each action type)"
   ]
  },
  {
   "cell_type": "code",
   "execution_count": 4,
   "metadata": {},
   "outputs": [],
   "source": [
    "class RandomAgent:\n",
    "    def __init__(self, bandit):\n",
    "        \"\"\"\n",
    "        Arguments:\n",
    "            bandit - bandit that the agent will operate on (used only to set initial values of q_est and n)\n",
    "        \"\"\"\n",
    "        self.q_est =  [0] * len(bandit.q_star)\n",
    "        self.n =  [0] * len(bandit.q_star)\n",
    "                \n",
    "    def act(self, bandit):\n",
    "        \"\"\"\n",
    "        Performs an action (selects an arm randomly) and updates corespondingn q_est and n values\n",
    "        Arguments:\n",
    "            bandit - bandit that the agent is operated on\n",
    "        Returns:\n",
    "            reward - reward from the bandit (a result of the performed action)\n",
    "        \"\"\"\n",
    "        arm = np.random.randint(len(self.q_est))\n",
    "        reward = bandit.execute(arm)\n",
    "        self.n[arm] += 1\n",
    "        \n",
    "        # Q_n+1 = Qn + (1 / n) * (R - Q_n)\n",
    "        self.q_est[arm] += (reward - self.q_est[arm]) / self.n[arm]\n",
    "        \n",
    "        return reward"
   ]
  },
  {
   "cell_type": "markdown",
   "metadata": {},
   "source": [
    "Let's run the agent and see how it works"
   ]
  },
  {
   "cell_type": "code",
   "execution_count": 5,
   "metadata": {},
   "outputs": [],
   "source": [
    "agent = RandomAgent(bandit)\n",
    "rewards = []\n",
    "for step in range (1000):\n",
    "    reward = agent.act(bandit)\n",
    "    rewards.append(reward)\n",
    "    \n",
    " "
   ]
  },
  {
   "cell_type": "code",
   "execution_count": 6,
   "metadata": {},
   "outputs": [
    {
     "data": {
      "image/png": "[encoded data removed]",
      "text/plain": [
       "<Figure size 432x288 with 1 Axes>"
      ]
     },
     "metadata": {
      "needs_background": "light"
     },
     "output_type": "display_data"
    }
   ],
   "source": [
    "def plot_rewards (rewards):\n",
    "    \"\"\"\n",
    "    Plots the rewards\n",
    "    \"\"\"\n",
    "    f = plt.figure()\n",
    "    plt.plot(rewards)\n",
    "    plt.xlabel('steps')\n",
    "    plt.ylabel('reward')\n",
    "    plt.show()\n",
    "    \n",
    "plot_rewards(rewards)"
   ]
  },
  {
   "cell_type": "code",
   "execution_count": 7,
   "metadata": {},
   "outputs": [
    {
     "data": {
      "text/html": [
       "<div>\n",
       "<style scoped>\n",
       "    .dataframe tbody tr th:only-of-type {\n",
       "        vertical-align: middle;\n",
       "    }\n",
       "\n",
       "    .dataframe tbody tr th {\n",
       "        vertical-align: top;\n",
       "    }\n",
       "\n",
       "    .dataframe thead th {\n",
       "        text-align: right;\n",
       "    }\n",
       "</style>\n",
       "<table border=\"1\" class=\"dataframe\">\n",
       "  <thead>\n",
       "    <tr style=\"text-align: right;\">\n",
       "      <th></th>\n",
       "      <th>q_star</th>\n",
       "      <th>q_est</th>\n",
       "      <th>n</th>\n",
       "    </tr>\n",
       "  </thead>\n",
       "  <tbody>\n",
       "    <tr>\n",
       "      <th>0</th>\n",
       "      <td>1</td>\n",
       "      <td>1.028808</td>\n",
       "      <td>114</td>\n",
       "    </tr>\n",
       "    <tr>\n",
       "      <th>1</th>\n",
       "      <td>0</td>\n",
       "      <td>0.297503</td>\n",
       "      <td>110</td>\n",
       "    </tr>\n",
       "    <tr>\n",
       "      <th>2</th>\n",
       "      <td>5</td>\n",
       "      <td>5.195996</td>\n",
       "      <td>99</td>\n",
       "    </tr>\n",
       "    <tr>\n",
       "      <th>3</th>\n",
       "      <td>3</td>\n",
       "      <td>2.962036</td>\n",
       "      <td>102</td>\n",
       "    </tr>\n",
       "    <tr>\n",
       "      <th>4</th>\n",
       "      <td>2</td>\n",
       "      <td>1.824657</td>\n",
       "      <td>98</td>\n",
       "    </tr>\n",
       "    <tr>\n",
       "      <th>5</th>\n",
       "      <td>1</td>\n",
       "      <td>0.664619</td>\n",
       "      <td>100</td>\n",
       "    </tr>\n",
       "    <tr>\n",
       "      <th>6</th>\n",
       "      <td>4</td>\n",
       "      <td>4.392847</td>\n",
       "      <td>89</td>\n",
       "    </tr>\n",
       "    <tr>\n",
       "      <th>7</th>\n",
       "      <td>3</td>\n",
       "      <td>3.249240</td>\n",
       "      <td>98</td>\n",
       "    </tr>\n",
       "    <tr>\n",
       "      <th>8</th>\n",
       "      <td>2</td>\n",
       "      <td>2.081300</td>\n",
       "      <td>98</td>\n",
       "    </tr>\n",
       "    <tr>\n",
       "      <th>9</th>\n",
       "      <td>6</td>\n",
       "      <td>5.798267</td>\n",
       "      <td>92</td>\n",
       "    </tr>\n",
       "  </tbody>\n",
       "</table>\n",
       "</div>"
      ],
      "text/plain": [
       "   q_star     q_est    n\n",
       "0       1  1.028808  114\n",
       "1       0  0.297503  110\n",
       "2       5  5.195996   99\n",
       "3       3  2.962036  102\n",
       "4       2  1.824657   98\n",
       "5       1  0.664619  100\n",
       "6       4  4.392847   89\n",
       "7       3  3.249240   98\n",
       "8       2  2.081300   98\n",
       "9       6  5.798267   92"
      ]
     },
     "execution_count": 7,
     "metadata": {},
     "output_type": "execute_result"
    }
   ],
   "source": [
    "\n",
    "def display_agent(agent, bandit):\n",
    "    \"\"\"\n",
    "    Displays the agent data, namely:\n",
    "    q_star - real expected rewards from the bandit\n",
    "    q_est  - expected rewards extimated by the agent\n",
    "    n      - how many times the agent selected this particular arm\n",
    "    \"\"\"\n",
    "    df = pd.DataFrame()\n",
    "    df['q_star'] = bandit.q_star\n",
    "    df['q_est'] = agent.q_est\n",
    "    df['n'] = agent.n\n",
    "    return df\n",
    "\n",
    "display_agent(agent, bandit)"
   ]
  },
  {
   "cell_type": "markdown",
   "metadata": {},
   "source": [
    "## $\\epsilon$-greedy Agent"
   ]
  },
  {
   "cell_type": "code",
   "execution_count": 8,
   "metadata": {},
   "outputs": [],
   "source": [
    "class EpsilonGreedyAgent:\n",
    "    def __init__(self, bandit, epsilon = 0.1):\n",
    "        \"\"\"\n",
    "        Arguments:\n",
    "            bandit - bandit that the agent will operate on (used only to set initial values of q_est and n)\n",
    "            epsilon - exploration parameter \n",
    "        \"\"\"        \n",
    "        self.q_est = [0] * len(bandit.q_star)\n",
    "        self.n =  [0] * len(bandit.q_star)\n",
    "        self.epsilon = epsilon\n",
    "        \n",
    "    def act(self, bandit):     \n",
    "        if np.random.random() > self.epsilon:\n",
    "            arm = np.argmax(self.q_est)\n",
    "        else:\n",
    "            arm = np.random.randint(len(self.q_est))\n",
    "        reward = bandit.execute(arm)\n",
    "        self.n[arm] += 1\n",
    "        \n",
    "        # Q_n+1 = Qn + (1 / n) * (R - Q_n)\n",
    "        self.q_est[arm] += (reward - self.q_est[arm]) / self.n[arm]\n",
    "        \n",
    "        return reward"
   ]
  },
  {
   "cell_type": "markdown",
   "metadata": {},
   "source": [
    "Let's train the agent n times (1000 steps each time) to see how it works"
   ]
  },
  {
   "cell_type": "code",
   "execution_count": 9,
   "metadata": {},
   "outputs": [
    {
     "name": "stderr",
     "output_type": "stream",
     "text": [
      "100%|██████████| 2000/2000 [01:56<00:00, 17.12it/s]\n"
     ]
    },
    {
     "name": "stdout",
     "output_type": "stream",
     "text": [
      "(1000,)\n"
     ]
    }
   ],
   "source": [
    "total_rewards = []\n",
    "for loop in tqdm(range (2000)):\n",
    "    #bandit = Bandit([1, 0, 5, 3, 2, 1, 4, 3, 2, 6])\n",
    "    agent = EpsilonGreedyAgent(bandit)\n",
    "    rewards = []\n",
    "    for step in range (1000):\n",
    "        #if step == 500:\n",
    "            #bandit = Bandit([1, 0, 5, 3, 2, 10, 4, 3, 2, 6])\n",
    "        reward = agent.act(bandit)\n",
    "        rewards.append(reward)\n",
    "    \n",
    "    total_rewards.append(rewards)\n",
    "total_rewards = np.asarray(total_rewards)\n",
    "rewards = total_rewards.mean(axis=0)\n",
    "print (rewards.shape)"
   ]
  },
  {
   "cell_type": "markdown",
   "metadata": {},
   "source": [
    "Let's display how the $\\epsilon$-greedy agent works.\n",
    "\n",
    "*Note: We trained many agents, and the displayed reward is the average of the rewards obrained by all the agents. However, the dataframe contains only the data for the latest agent*"
   ]
  },
  {
   "cell_type": "code",
   "execution_count": 10,
   "metadata": {},
   "outputs": [
    {
     "data": {
      "image/png": "[encoded data removed]",
      "text/plain": [
       "<Figure size 432x288 with 1 Axes>"
      ]
     },
     "metadata": {
      "needs_background": "light"
     },
     "output_type": "display_data"
    },
    {
     "data": {
      "text/html": [
       "<div>\n",
       "<style scoped>\n",
       "    .dataframe tbody tr th:only-of-type {\n",
       "        vertical-align: middle;\n",
       "    }\n",
       "\n",
       "    .dataframe tbody tr th {\n",
       "        vertical-align: top;\n",
       "    }\n",
       "\n",
       "    .dataframe thead th {\n",
       "        text-align: right;\n",
       "    }\n",
       "</style>\n",
       "<table border=\"1\" class=\"dataframe\">\n",
       "  <thead>\n",
       "    <tr style=\"text-align: right;\">\n",
       "      <th></th>\n",
       "      <th>q_star</th>\n",
       "      <th>q_est</th>\n",
       "      <th>n</th>\n",
       "    </tr>\n",
       "  </thead>\n",
       "  <tbody>\n",
       "    <tr>\n",
       "      <th>0</th>\n",
       "      <td>1</td>\n",
       "      <td>0.537183</td>\n",
       "      <td>7</td>\n",
       "    </tr>\n",
       "    <tr>\n",
       "      <th>1</th>\n",
       "      <td>0</td>\n",
       "      <td>-0.334972</td>\n",
       "      <td>4</td>\n",
       "    </tr>\n",
       "    <tr>\n",
       "      <th>2</th>\n",
       "      <td>5</td>\n",
       "      <td>4.299660</td>\n",
       "      <td>9</td>\n",
       "    </tr>\n",
       "    <tr>\n",
       "      <th>3</th>\n",
       "      <td>3</td>\n",
       "      <td>3.973458</td>\n",
       "      <td>11</td>\n",
       "    </tr>\n",
       "    <tr>\n",
       "      <th>4</th>\n",
       "      <td>2</td>\n",
       "      <td>2.678363</td>\n",
       "      <td>11</td>\n",
       "    </tr>\n",
       "    <tr>\n",
       "      <th>5</th>\n",
       "      <td>1</td>\n",
       "      <td>0.615353</td>\n",
       "      <td>8</td>\n",
       "    </tr>\n",
       "    <tr>\n",
       "      <th>6</th>\n",
       "      <td>4</td>\n",
       "      <td>3.141337</td>\n",
       "      <td>11</td>\n",
       "    </tr>\n",
       "    <tr>\n",
       "      <th>7</th>\n",
       "      <td>3</td>\n",
       "      <td>2.649652</td>\n",
       "      <td>15</td>\n",
       "    </tr>\n",
       "    <tr>\n",
       "      <th>8</th>\n",
       "      <td>2</td>\n",
       "      <td>1.172620</td>\n",
       "      <td>5</td>\n",
       "    </tr>\n",
       "    <tr>\n",
       "      <th>9</th>\n",
       "      <td>6</td>\n",
       "      <td>5.972726</td>\n",
       "      <td>919</td>\n",
       "    </tr>\n",
       "  </tbody>\n",
       "</table>\n",
       "</div>"
      ],
      "text/plain": [
       "   q_star     q_est    n\n",
       "0       1  0.537183    7\n",
       "1       0 -0.334972    4\n",
       "2       5  4.299660    9\n",
       "3       3  3.973458   11\n",
       "4       2  2.678363   11\n",
       "5       1  0.615353    8\n",
       "6       4  3.141337   11\n",
       "7       3  2.649652   15\n",
       "8       2  1.172620    5\n",
       "9       6  5.972726  919"
      ]
     },
     "execution_count": 10,
     "metadata": {},
     "output_type": "execute_result"
    }
   ],
   "source": [
    "plot_rewards(rewards)\n",
    "display_agent(agent, bandit)"
   ]
  },
  {
   "cell_type": "markdown",
   "metadata": {},
   "source": [
    "We may save the rewards for future comparisons"
   ]
  },
  {
   "cell_type": "code",
   "execution_count": 11,
   "metadata": {},
   "outputs": [],
   "source": [
    "df_rewards = pd.DataFrame()\n",
    "df_rewards['eGreedy'] = rewards"
   ]
  },
  {
   "cell_type": "markdown",
   "metadata": {},
   "source": [
    "## Task 1  - Optimistic agent\n",
    "Please fill in the placeholders to implement the optimistic agent.\n",
    "Generally, you are suppose to prepate the `__init__` and `act` methods.\n",
    "- In the `__init__` method you should set the initial values optimistically.\n",
    "- In the `act` method you should:\n",
    "    - Perform an action (select the arm greedily based on the estimated $q_{\\star}$ values) \n",
    "    - Update the corresponding estimated $q_{\\star}$ value"
   ]
  },
  {
   "cell_type": "code",
   "execution_count": 12,
   "metadata": {},
   "outputs": [],
   "source": [
    "class OptimisticAgent:\n",
    "    def __init__(self, bandit, initial_value = 10):\n",
    "        \n",
    "        self.q_est = [initial_value] * len(bandit.q_star)\n",
    "        self.n =  [0] * len(bandit.q_star)\n",
    "\n",
    "               \n",
    "    def act(self, bandit):\n",
    "       \n",
    "        arm = np.argmax(self.q_est)\n",
    "        reward = bandit.execute(arm)\n",
    "        self.n[arm] += 1\n",
    "        \n",
    "        # Q_n+1 = Qn + (1 / n) * (R - Q_n)\n",
    "        self.q_est[arm] += (reward - self.q_est[arm]) / self.n[arm]\n",
    "        \n",
    "        return reward"
   ]
  },
  {
   "cell_type": "markdown",
   "metadata": {},
   "source": [
    "Agent traning"
   ]
  },
  {
   "cell_type": "code",
   "execution_count": 13,
   "metadata": {},
   "outputs": [
    {
     "name": "stderr",
     "output_type": "stream",
     "text": [
      "100%|██████████| 2000/2000 [01:45<00:00, 19.04it/s]\n"
     ]
    }
   ],
   "source": [
    "total_rewards = []\n",
    "for loop in tqdm(range (2000)):\n",
    "    agent = OptimisticAgent(bandit)\n",
    "    rewards = []\n",
    "    for step in range (1000):\n",
    "        reward = agent.act(bandit)\n",
    "        rewards.append(reward)\n",
    "    \n",
    "    total_rewards.append(rewards)\n",
    "total_rewards = np.asarray(total_rewards)\n",
    "rewards = total_rewards.mean(axis=0)\n"
   ]
  },
  {
   "cell_type": "markdown",
   "metadata": {},
   "source": [
    "Optimistic agent results visualization"
   ]
  },
  {
   "cell_type": "code",
   "execution_count": 14,
   "metadata": {},
   "outputs": [
    {
     "data": {
      "image/png": "[encoded data removed]",
      "text/plain": [
       "<Figure size 432x288 with 1 Axes>"
      ]
     },
     "metadata": {
      "needs_background": "light"
     },
     "output_type": "display_data"
    },
    {
     "data": {
      "text/html": [
       "<div>\n",
       "<style scoped>\n",
       "    .dataframe tbody tr th:only-of-type {\n",
       "        vertical-align: middle;\n",
       "    }\n",
       "\n",
       "    .dataframe tbody tr th {\n",
       "        vertical-align: top;\n",
       "    }\n",
       "\n",
       "    .dataframe thead th {\n",
       "        text-align: right;\n",
       "    }\n",
       "</style>\n",
       "<table border=\"1\" class=\"dataframe\">\n",
       "  <thead>\n",
       "    <tr style=\"text-align: right;\">\n",
       "      <th></th>\n",
       "      <th>q_star</th>\n",
       "      <th>q_est</th>\n",
       "      <th>n</th>\n",
       "    </tr>\n",
       "  </thead>\n",
       "  <tbody>\n",
       "    <tr>\n",
       "      <th>0</th>\n",
       "      <td>1</td>\n",
       "      <td>1.828073</td>\n",
       "      <td>1</td>\n",
       "    </tr>\n",
       "    <tr>\n",
       "      <th>1</th>\n",
       "      <td>0</td>\n",
       "      <td>-3.439932</td>\n",
       "      <td>1</td>\n",
       "    </tr>\n",
       "    <tr>\n",
       "      <th>2</th>\n",
       "      <td>5</td>\n",
       "      <td>4.708925</td>\n",
       "      <td>3</td>\n",
       "    </tr>\n",
       "    <tr>\n",
       "      <th>3</th>\n",
       "      <td>3</td>\n",
       "      <td>1.668911</td>\n",
       "      <td>1</td>\n",
       "    </tr>\n",
       "    <tr>\n",
       "      <th>4</th>\n",
       "      <td>2</td>\n",
       "      <td>4.646195</td>\n",
       "      <td>1</td>\n",
       "    </tr>\n",
       "    <tr>\n",
       "      <th>5</th>\n",
       "      <td>1</td>\n",
       "      <td>2.354217</td>\n",
       "      <td>1</td>\n",
       "    </tr>\n",
       "    <tr>\n",
       "      <th>6</th>\n",
       "      <td>4</td>\n",
       "      <td>3.667986</td>\n",
       "      <td>1</td>\n",
       "    </tr>\n",
       "    <tr>\n",
       "      <th>7</th>\n",
       "      <td>3</td>\n",
       "      <td>0.738740</td>\n",
       "      <td>1</td>\n",
       "    </tr>\n",
       "    <tr>\n",
       "      <th>8</th>\n",
       "      <td>2</td>\n",
       "      <td>0.499681</td>\n",
       "      <td>1</td>\n",
       "    </tr>\n",
       "    <tr>\n",
       "      <th>9</th>\n",
       "      <td>6</td>\n",
       "      <td>6.012500</td>\n",
       "      <td>989</td>\n",
       "    </tr>\n",
       "  </tbody>\n",
       "</table>\n",
       "</div>"
      ],
      "text/plain": [
       "   q_star     q_est    n\n",
       "0       1  1.828073    1\n",
       "1       0 -3.439932    1\n",
       "2       5  4.708925    3\n",
       "3       3  1.668911    1\n",
       "4       2  4.646195    1\n",
       "5       1  2.354217    1\n",
       "6       4  3.667986    1\n",
       "7       3  0.738740    1\n",
       "8       2  0.499681    1\n",
       "9       6  6.012500  989"
      ]
     },
     "execution_count": 14,
     "metadata": {},
     "output_type": "execute_result"
    }
   ],
   "source": [
    "df_rewards['optimistic'] = rewards # Let's store the results for comparison\n",
    "plot_rewards(rewards)\n",
    "display_agent(agent, bandit)"
   ]
  },
  {
   "cell_type": "markdown",
   "metadata": {},
   "source": [
    "## Task 2  - Upper Confidence Bound agent\n",
    "\n",
    "Please fill in the placeholders to implement the UCB agent.\n",
    "Generally, you are suppose to prepate the `act` method. In this method you are supposed to:\n",
    "- Compute the optimistic estimated $q_{\\star}$ values for each action, according to the formula:\n",
    "$Q_{optimistic}(a) = Q_{estimated}(a) + c \\sqrt{\\frac{ln(t)}{N_t(a)}}$ where:\n",
    "    - $a$ - selected action\n",
    "    - $Q_{estimated}(a)$ - estimated $q_{\\star}$ value for action $a$\n",
    "    - $c$ - explorarion parameter\n",
    "    - $t$ - number of all steps taken so far\n",
    "    - $N_t(a)$ - number of times when action $a$ was selected\n",
    "- Perform an action (select the arm greedily based on the estimated $Q_{optimistic}$ values) \n",
    "- Update the corresponding estimated $q_{\\star}$ value"
   ]
  },
  {
   "cell_type": "code",
   "execution_count": 15,
   "metadata": {},
   "outputs": [],
   "source": [
    "class UCBAgent:\n",
    "    def __init__(self, bandit, c = 4):\n",
    "        self.q_est =  [0] * len(bandit.q_star)\n",
    "        self.n =  [1] * len(bandit.q_star)\n",
    "        self.c = c\n",
    "        \n",
    "    def act(self, bandit): \n",
    "        q_opt = [0] * len(self.q_est)\n",
    "        for i in range(len(self.q_est)):\n",
    "             q_opt[i] = self.q_est[i] + self.c*np.sqrt(np.log(sum(self.n))/self.n[i])\n",
    "        # Calculate Q optimistic here\n",
    "        # Enter your code here (probably you need more than one line of code)\n",
    "        arm = np.argmax(q_opt)\n",
    "        reward = bandit.execute(arm)\n",
    "        self.n[arm] += 1\n",
    "        \n",
    "        # Q_n+1 = Qn + (1 / n) * (R - Q_n)\n",
    "        self.q_est[arm] += (reward - self.q_est[arm]) / self.n[arm]\n",
    "        \n",
    "        return reward"
   ]
  },
  {
   "cell_type": "markdown",
   "metadata": {},
   "source": [
    "Agent traning"
   ]
  },
  {
   "cell_type": "code",
   "execution_count": 16,
   "metadata": {},
   "outputs": [
    {
     "name": "stderr",
     "output_type": "stream",
     "text": [
      "100%|██████████| 300/300 [00:57<00:00,  5.19it/s]"
     ]
    },
    {
     "name": "stdout",
     "output_type": "stream",
     "text": [
      "(1000,)\n"
     ]
    },
    {
     "name": "stderr",
     "output_type": "stream",
     "text": [
      "\n"
     ]
    }
   ],
   "source": [
    "total_rewards = []\n",
    "for loop in tqdm(range (300)):\n",
    "    agent = UCBAgent(bandit)\n",
    "    rewards = []\n",
    "    for i in range (1000):\n",
    "        reward = agent.act(bandit)\n",
    "        rewards.append(reward)\n",
    "    \n",
    "    total_rewards.append(rewards)\n",
    "total_rewards = np.asarray(total_rewards)\n",
    "rewards = total_rewards.mean(axis=0)\n",
    "print (rewards.shape)"
   ]
  },
  {
   "cell_type": "code",
   "execution_count": 17,
   "metadata": {},
   "outputs": [
    {
     "data": {
      "image/png": "[encoded data removed]",
      "text/plain": [
       "<Figure size 432x288 with 1 Axes>"
      ]
     },
     "metadata": {
      "needs_background": "light"
     },
     "output_type": "display_data"
    },
    {
     "data": {
      "text/html": [
       "<div>\n",
       "<style scoped>\n",
       "    .dataframe tbody tr th:only-of-type {\n",
       "        vertical-align: middle;\n",
       "    }\n",
       "\n",
       "    .dataframe tbody tr th {\n",
       "        vertical-align: top;\n",
       "    }\n",
       "\n",
       "    .dataframe thead th {\n",
       "        text-align: right;\n",
       "    }\n",
       "</style>\n",
       "<table border=\"1\" class=\"dataframe\">\n",
       "  <thead>\n",
       "    <tr style=\"text-align: right;\">\n",
       "      <th></th>\n",
       "      <th>q_star</th>\n",
       "      <th>q_est</th>\n",
       "      <th>n</th>\n",
       "    </tr>\n",
       "  </thead>\n",
       "  <tbody>\n",
       "    <tr>\n",
       "      <th>0</th>\n",
       "      <td>1</td>\n",
       "      <td>1.447713</td>\n",
       "      <td>6</td>\n",
       "    </tr>\n",
       "    <tr>\n",
       "      <th>1</th>\n",
       "      <td>0</td>\n",
       "      <td>1.103198</td>\n",
       "      <td>4</td>\n",
       "    </tr>\n",
       "    <tr>\n",
       "      <th>2</th>\n",
       "      <td>5</td>\n",
       "      <td>4.870474</td>\n",
       "      <td>48</td>\n",
       "    </tr>\n",
       "    <tr>\n",
       "      <th>3</th>\n",
       "      <td>3</td>\n",
       "      <td>1.660360</td>\n",
       "      <td>6</td>\n",
       "    </tr>\n",
       "    <tr>\n",
       "      <th>4</th>\n",
       "      <td>2</td>\n",
       "      <td>2.380005</td>\n",
       "      <td>7</td>\n",
       "    </tr>\n",
       "    <tr>\n",
       "      <th>5</th>\n",
       "      <td>1</td>\n",
       "      <td>0.412608</td>\n",
       "      <td>4</td>\n",
       "    </tr>\n",
       "    <tr>\n",
       "      <th>6</th>\n",
       "      <td>4</td>\n",
       "      <td>4.099122</td>\n",
       "      <td>23</td>\n",
       "    </tr>\n",
       "    <tr>\n",
       "      <th>7</th>\n",
       "      <td>3</td>\n",
       "      <td>0.193230</td>\n",
       "      <td>3</td>\n",
       "    </tr>\n",
       "    <tr>\n",
       "      <th>8</th>\n",
       "      <td>2</td>\n",
       "      <td>0.037026</td>\n",
       "      <td>3</td>\n",
       "    </tr>\n",
       "    <tr>\n",
       "      <th>9</th>\n",
       "      <td>6</td>\n",
       "      <td>6.088930</td>\n",
       "      <td>906</td>\n",
       "    </tr>\n",
       "  </tbody>\n",
       "</table>\n",
       "</div>"
      ],
      "text/plain": [
       "   q_star     q_est    n\n",
       "0       1  1.447713    6\n",
       "1       0  1.103198    4\n",
       "2       5  4.870474   48\n",
       "3       3  1.660360    6\n",
       "4       2  2.380005    7\n",
       "5       1  0.412608    4\n",
       "6       4  4.099122   23\n",
       "7       3  0.193230    3\n",
       "8       2  0.037026    3\n",
       "9       6  6.088930  906"
      ]
     },
     "execution_count": 17,
     "metadata": {},
     "output_type": "execute_result"
    }
   ],
   "source": [
    "df_rewards['UCB'] = rewards # Let's store the results for comparison\n",
    "plot_rewards(rewards)\n",
    "display_agent(agent, bandit)"
   ]
  },
  {
   "cell_type": "markdown",
   "metadata": {},
   "source": [
    "## Task 3 - understanding the code\n",
    "\n",
    "See the results of all agents as well as the comparison below. Try to understand the results. To get the better understanding you may experiment with the code. For example, you may:\n",
    "- Modify the k-armed bandit by changeing the real $Q_{\\star}$ values and/or the standard deviation.\n",
    "- Change the $\\epsilon$ parameter in $\\epsilon$-greedy agent and see how it impacts the behaviour of the agent\n",
    "- Change the initial values for the optimistic agent and see how it impacts the behaviour of the agent\n",
    "- Change exploration parameter $c$ for the UCB agent and see how it impacts the behaviour of the agent"
   ]
  },
  {
   "cell_type": "code",
   "execution_count": 18,
   "metadata": {},
   "outputs": [
    {
     "data": {
      "text/plain": [
       "<AxesSubplot:>"
      ]
     },
     "execution_count": 18,
     "metadata": {},
     "output_type": "execute_result"
    },
    {
     "data": {
      "image/png": "[encoded data removed]",
      "text/plain": [
       "<Figure size 432x288 with 1 Axes>"
      ]
     },
     "metadata": {
      "needs_background": "light"
     },
     "output_type": "display_data"
    }
   ],
   "source": [
    "df_rewards.plot(colormap = 'brg', ylim=[1, 6.5])"
   ]
  },
  {
   "cell_type": "code",
   "execution_count": null,
   "metadata": {},
   "outputs": [],
   "source": []
  }
 ],
 "metadata": {
  "kernelspec": {
   "display_name": "Python 3 (ipykernel)",
   "language": "python",
   "name": "python3"
  },
  "language_info": {
   "codemirror_mode": {
    "name": "ipython",
    "version": 3
   },
   "file_extension": ".py",
   "mimetype": "text/x-python",
   "name": "python",
   "nbconvert_exporter": "python",
   "pygments_lexer": "ipython3",
   "version": "3.9.7"
  }
 },
 "nbformat": 4,
 "nbformat_minor": 4
}
