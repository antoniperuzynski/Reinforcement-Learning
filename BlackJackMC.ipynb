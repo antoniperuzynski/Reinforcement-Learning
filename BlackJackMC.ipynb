{
 "cells": [
  {
   "cell_type": "markdown",
   "metadata": {
    "tags": []
   },
   "source": [
    "# Black Jack with Monte Carlo\n",
    "In this task you are asked to find an optimal policy for a Black Jack game. You are going to use an OpenAI Gym [Black Jack environment](https://gym.openai.com/envs/Blackjack-v0/) in this task. [OpenAI Gym](https://gym.openai.com/) is a toolkit for developing and comparing reinforcement learning algorithms. One of its features is to provide various RL-ready environments to facilitate studing and developing new Reinforcement Learning algorithms.\n",
    "\n",
    "The main purposes of this notebook are to introduce:\n",
    "- OpenAI Gym environments\n",
    "- Monte Calro Methods\n",
    "- the `Exploring starts` exploration algorithm \n",
    "\n",
    "\n"
   ]
  },
  {
   "cell_type": "code",
   "execution_count": 1,
   "metadata": {},
   "outputs": [],
   "source": [
    "#!pip install gym\n",
    "#!pip install pygame"
   ]
  },
  {
   "cell_type": "code",
   "execution_count": 1,
   "metadata": {},
   "outputs": [],
   "source": [
    "import gym \n",
    "import numpy as np\n",
    "import matplotlib.pyplot as plt\n",
    "import matplotlib\n",
    "import seaborn as sns\n",
    "from tqdm import tqdm"
   ]
  },
  {
   "cell_type": "markdown",
   "metadata": {},
   "source": [
    "### Black Jack Environment\n",
    "- `states` - are provided as tuples (`score`, `dealer score`, `useable ace`)\n",
    "    - `score` - the summary score of your cards (4-21)\n",
    "    - `dealer score` - the first dealer card (1-10)\n",
    "    - `useable ace` - True/False, points out if you have a useable ace\n",
    "- `actions`\n",
    "    - `0` - draw\n",
    "    - `1` - hit\n",
    "- `rewards`\n",
    "    - `1` - you won a game\n",
    "    - `0` - draw\n",
    "    - `-1` - you lost a game\n",
    "    \n",
    "    \n",
    "Let's create an environment and see how to use it."
   ]
  },
  {
   "cell_type": "code",
   "execution_count": 2,
   "metadata": {},
   "outputs": [
    {
     "name": "stdout",
     "output_type": "stream",
     "text": [
      "Initial state: (8, 10, False).\n"
     ]
    }
   ],
   "source": [
    "env = gym.make('Blackjack-v1')\n",
    "state = env.reset()\n",
    "print (f'Initial state: {state}.')"
   ]
  },
  {
   "cell_type": "code",
   "execution_count": 3,
   "metadata": {},
   "outputs": [
    {
     "name": "stdout",
     "output_type": "stream",
     "text": [
      "Initial state: (14, 4, False).\n",
      "State: (14, 4, False), Action: 1, reward: 0.0, terminal: False\n",
      "State: (20, 4, False), Action: 0, reward: 1.0, terminal: True\n",
      "Terminal state: (20, 4, False), Final reward: 1.0\n"
     ]
    }
   ],
   "source": [
    "def sample_policy(state):\n",
    "    score, dealer_score, usable_ace = state\n",
    "    return 0 if score >= 19 else 1\n",
    "\n",
    "state = env.reset()\n",
    "print (f'Initial state: {state}.')\n",
    "terminal = False\n",
    "\n",
    "while not terminal:\n",
    "    action = sample_policy(state)\n",
    "    \n",
    "    next_state, reward, terminal, info = env.step(action)\n",
    "    print (f'State: {state}, Action: {action}, reward: {reward}, terminal: {terminal}')\n",
    "    \n",
    "    state = next_state\n",
    "    \n",
    "print (f'Terminal state: {state}, Final reward: {reward}')"
   ]
  },
  {
   "cell_type": "markdown",
   "metadata": {},
   "source": [
    "## Task 1\n",
    "Fill in the placeholders to complete the `update_qest` method.  You are supposed\n",
    "to compute an updated state-action value according to the formula:\n",
    "\n",
    "\n",
    "$q_{n+1} = q_{n} + \\frac{1}{n}(G_n-q_n)$\n",
    "\n",
    "where:\n",
    "- $q_{n}$ - current estimated state-action value \n",
    "- $q_{n+1}$ - new estimated state-action value \n",
    "- $G_n$ - return obtained for the explored state and action\n",
    "- $n$ - number of actions (computed separately for each action type)"
   ]
  },
  {
   "cell_type": "code",
   "execution_count": 4,
   "metadata": {},
   "outputs": [],
   "source": [
    "class Policy:\n",
    "    \"\"\"\n",
    "    This class is used to learn and maintain the policy. It is being done by\n",
    "    learning action-value methods. \n",
    "    Properties: \n",
    "        q_est - a dictionary that stores estimated state-action values for \n",
    "                the states\n",
    "                { state : [value for action0, value for action1] }\n",
    "        n     - a dictionary that stores how many times each state-action \n",
    "                value was updated\n",
    "                { state : [no. updates for action0, no. updates for action 1]}\n",
    "    Methods:\n",
    "        act         - returns a greedy action according to a current policy.\n",
    "                      The initial policy assumes to hit until the score >= 19.\n",
    "                      Then it is gradually updated in a learning process\n",
    "        update_qest - updates a specific state-action value using a given \n",
    "                      return\n",
    "        plot        - visualizes the policy.\n",
    "    \"\"\"\n",
    "    \n",
    "    def __init__(self):\n",
    "        \n",
    "        # Dictionary with { state : [state action value for 0, state action value for 1]  }\n",
    "        self.q_est = {}        \n",
    "        self.n = {}\n",
    "        \n",
    "    def __initialize_state(self, state):\n",
    "        if state in self.q_est:\n",
    "            return\n",
    "\n",
    "        score = state[0]\n",
    "        should_hit = int (score < 19)\n",
    "        self.q_est[state] = [1 - should_hit, should_hit]\n",
    "        self.n[state] = [0, 0]\n",
    "        \n",
    "        \n",
    "    def act(self, state):\n",
    "        \"\"\"\n",
    "        Returns a greedy action according to the current policy\n",
    "        Arguments:\n",
    "            state - a state obtained from OpenAI Gym Black Jack environment\n",
    "        Returns:\n",
    "            action - 0 for 'draw', 1 for 'hit'\n",
    "        \"\"\"\n",
    "        self.__initialize_state(state)\n",
    "        return np.argmax(self.q_est[state])\n",
    "                \n",
    "    def update_qest(self, state, action, g):\n",
    "        \"\"\"\n",
    "        Updates state-action value for a specific state and a specific action.\n",
    "        State-action values are computed as a mean of all returns\n",
    "        Arguments:\n",
    "            state  - a state obtained from OpenAI Gym Black Jack environment\n",
    "            action - 0 for 'draw', 1 for 'hit'\n",
    "            g      - return that should be used for updating        \n",
    "        \"\"\"\n",
    "        self.__initialize_state(state)\n",
    "        \n",
    "        # ENTER YOUR CODE HERE. \n",
    "        self.n[state][action]= self.n[state][action]+1\n",
    "        self.q_est[state][action] = self.q_est[state][action]+((1.0/(self.n[state][action]))*(g-self.q_est[state][action]))\n",
    "        \n",
    "        # END OF YOUR CODE\n",
    "        \n",
    "    def plot(self, useable_ace = True):\n",
    "        \"\"\"\n",
    "        Plots a visualization of current policy. It plots the policy only for the explored\n",
    "        states. The states that haven't been explored yet, are plotted as 'unknown'\n",
    "        Arguments:\n",
    "            useable_ace - True / False. It plots different policies, whether the player\n",
    "                          has or does not have a useable ace.        \n",
    "        \"\"\"\n",
    "        states = [x for x in policy.q_est.keys() if x[2] == useable_ace]\n",
    "        rows = max(x[0] for x in states)\n",
    "        cols = max(x[1] for x in states)\n",
    "        \n",
    "        res = -1 * np.ones((rows, cols))\n",
    "        for state in states:\n",
    "            res[rows-state[0], state[1]-1] = self.act(state)\n",
    "            \n",
    "        fig = plt.figure(figsize = (12, 8))\n",
    "\n",
    "        #cbar_kws = {'ticks' : [0, 0.5, 1]}\n",
    "        cmap = matplotlib.colors.ListedColormap(('white', 'r', 'g'), name = 'My Cmap')\n",
    "\n",
    "        ax = sns.heatmap(res, linewidth=0.5, cmap = cmap)\n",
    "        cbar = ax.collections[0].colorbar\n",
    "        cbar.set_ticks([1, 0, -1])\n",
    "        cbar.set_ticklabels(['hit', 'draw', 'unknown'])\n",
    "        ax.set_xticks(np.arange(10) + 1)\n",
    "        ticks = np.arange(10)\n",
    "        xticklabels = [f'       {x}' for x in list(ticks+1)]\n",
    "\n",
    "        plt.xticks(ticks, xticklabels, ha = 'left')\n",
    "        ticks = np.arange(21)\n",
    "        yticklabels = [f'{x} ' + (' ' if x < 10 else '') for x in list(ticks+1)[::-1]]\n",
    "        plt.yticks(ticks, yticklabels, rotation=90, va='top')\n",
    "        plt.title('Black Jack policy with' + ('' if useable_ace else 'out') + ' a useable ace')\n",
    "\n",
    "        plt.show()        \n"
   ]
  },
  {
   "cell_type": "markdown",
   "metadata": {},
   "source": [
    "## Task 2\n",
    "Complete the generate_episode function by filling in the code placeholders\n",
    "You are supposed to:\n",
    "- randomly select the initial action and execute this action \n",
    "- select every other action according to the policy and execute it\n",
    "- update policy for each state-action pair generated during the episode"
   ]
  },
  {
   "cell_type": "code",
   "execution_count": 5,
   "metadata": {},
   "outputs": [],
   "source": [
    "def generate_episode(policy):\n",
    "    \"\"\"\n",
    "    Generates one episode, and updates state-action values of the policy\n",
    "    acording to the \n",
    "    \"\"\"\n",
    "    states = []\n",
    "    actions = []\n",
    "    \n",
    "    state = env.reset()\n",
    "    \n",
    "    # ENTER YOUR CODE HERE\n",
    "    # Choose the first action randomly\n",
    "    action = np.random.randint(0,2)\n",
    "    # END OF YOUR CODE\n",
    "    \n",
    "    states.append(state)\n",
    "    actions.append(action)\n",
    "    \n",
    "    # ENTER YOUR CODE HERE\n",
    "    # Execute the action you chose above\n",
    "    state, reward, terminal, info = env.step(action)\n",
    "    # END OF YOUR CODE\n",
    "    \n",
    "    while not terminal:\n",
    "        # ENTER YOUR CODE HERE\n",
    "        # Choose an action according to the current policy\n",
    "        action = policy.act(state)\n",
    "        # END OF YOUR CODE\n",
    "        \n",
    "        states.append(state)\n",
    "        actions.append(action)\n",
    "                \n",
    "        # ENTER YOUR CODE HERE\n",
    "        # Execute the action you chose above\n",
    "        state, reward, terminal, info = env.step(action)\n",
    "        # END OF YOUR CODE\n",
    "        \n",
    "    for state, action in zip(states, actions):\n",
    "        # ENTER YOUR CODE HERE\n",
    "        # Update qest\n",
    "        \n",
    "        # END OF YOUR CODE\n",
    "        policy.update_qest(state, action, reward)\n",
    "        \n",
    "    "
   ]
  },
  {
   "cell_type": "markdown",
   "metadata": {},
   "source": [
    "## Task 3\n",
    "Generate episodes and learn from them until you learn the optimal policy. You may use `policy.plot()` to visualize your policies."
   ]
  },
  {
   "cell_type": "code",
   "execution_count": 15,
   "metadata": {},
   "outputs": [
    {
     "name": "stderr",
     "output_type": "stream",
     "text": [
      "100%|██████████| 2000000/2000000 [18:53<00:00, 1763.70it/s]\n"
     ]
    }
   ],
   "source": [
    "# ENTER YOUR CODE HERE\n",
    "# Generate enough episodes to obtain the optimal policy\n",
    "policy = Policy()\n",
    "for i in tqdm(range (2000000)):\n",
    "    generate_episode(policy)\n"
   ]
  },
  {
   "cell_type": "code",
   "execution_count": 16,
   "metadata": {},
   "outputs": [
    {
     "data": {
      "image/png": "[encoded data removed]",
      "text/plain": [
       "<Figure size 864x576 with 2 Axes>"
      ]
     },
     "metadata": {
      "needs_background": "light"
     },
     "output_type": "display_data"
    },
    {
     "data": {
      "image/png": "[encoded data removed]",
      "text/plain": [
       "<Figure size 864x576 with 2 Axes>"
      ]
     },
     "metadata": {
      "needs_background": "light"
     },
     "output_type": "display_data"
    }
   ],
   "source": [
    "policy.plot(False)\n",
    "policy.plot(True)"
   ]
  },
  {
   "cell_type": "code",
   "execution_count": 17,
   "metadata": {},
   "outputs": [],
   "source": [
    "keys = list(policy.q_est.keys())"
   ]
  },
  {
   "cell_type": "code",
   "execution_count": 18,
   "metadata": {},
   "outputs": [
    {
     "name": "stdout",
     "output_type": "stream",
     "text": [
      "{(19, 6, False): [0.5100900695473738, -0.7159340659340655], (13, 7, False): [-0.47948677332488565, -0.2442019099590727], (13, 7, True): [-0.484633569739953, 0.1779141104294479], (12, 7, False): [-0.4618913719106124, -0.21126912303382892], (19, 3, True): [0.3906056860321381, 0.18435155412647386], (18, 5, True): [0.2173624917163687, 0.14413407821229052], (21, 9, False): [0.9390567707674804, 0], (11, 9, False): [-0.5439455782312925, 0.1777827347758193], (14, 4, False): [-0.22650800164136278, -0.3189898654261512], (8, 4, False): [-0.23899102180418957, 0.021407986825854278], (20, 10, False): [0.43620204309261573, -0.8572214580467677], (21, 10, True): [0.9157640130402781, 0.06293366638912055], (13, 10, False): [-0.5706272310045909, -0.4612472449111877], (14, 5, False): [-0.16524275890810605, -0.3307204803202142], (21, 10, False): [0.8881547448051317, 0], (18, 2, False): [0.13115949578081065, -0.6207810993249727], (14, 2, False): [-0.2927024859663186, -0.34791977457317985], (17, 1, False): [-0.6422457432121473, -0.6638473216222084], (21, 5, True): [0.9742599742599758, 0.31073752711496816], (10, 10, False): [-0.5758056834418163, -0.04466868483013794], (14, 9, False): [-0.5332880434782612, -0.4331604150039891], (15, 2, False): [-0.29527836504580707, -0.4370383714646011], (18, 10, False): [-0.24580064605445465, -0.6773590593910158], (12, 4, False): [-0.21944444444444455, -0.22829994863893188], (18, 3, False): [0.15150864383120455, -0.6340078973346471], (14, 10, True): [-0.5879538418238106, -0.1980416156670747], (11, 1, False): [-0.7579298831385639, -0.09259259259259277], (16, 1, False): [-0.7615609756097551, -0.6487123856239995], (16, 8, False): [-0.5243993993993962, -0.4561368806250601], (17, 3, False): [-0.1169350594674243, -0.5291519434628975], (16, 2, False): [-0.28384013017390525, -0.4826035965598109], (13, 9, False): [-0.5644500472738723, -0.40437272254034407], (10, 9, False): [-0.5345950977350292, 0.13129216398546983], (20, 4, True): [0.635761589403973, 0.23127753303964751], (14, 6, False): [-0.14953076120959377, -0.2936739242242418], (18, 6, False): [0.27234232226431887, -0.6216347319912667], (20, 6, False): [0.6974099810486444, -0.8384176069090408], (11, 6, False): [-0.14413158628380274, 0.339124548736462], (15, 10, False): [-0.5706744334213202, -0.5297432085740987], (15, 10, True): [-0.590746350867529, -0.21185876082611563], (12, 10, False): [-0.5822663723325978, -0.4241192049436905], (12, 10, True): [-0.5702832709780858, -0.08235948803561498], (10, 7, False): [-0.4645919339472859, 0.24704025256511503], (16, 6, False): [-0.1299968523764558, -0.43618090452261216], (17, 6, False): [0.015744680851063807, -0.500107596298687], (5, 6, False): [-0.181818181818182, -0.05032119914346893], (16, 9, False): [-0.5559875583203725, -0.5227616169248198], (11, 2, False): [-0.2645444566410531, 0.22889939230249862], (16, 1, True): [-0.7735042735042736, -0.34065040650406525], (19, 4, True): [0.42214328004736507, 0.12430632630410658], (14, 10, False): [-0.5836459754433836, -0.4989636658758903], (16, 5, False): [-0.18519299725796243, -0.446881287726358], (17, 10, False): [-0.4564796023077113, -0.6179338299737074], (16, 10, False): [-0.5879272870974092, -0.5685058170837337], (9, 8, False): [-0.4967081199707402, 0.08155080213903763], (12, 3, False): [-0.2627255390934425, -0.229799612152553], (11, 7, False): [-0.49311604383253727, 0.29914529914529864], (7, 10, False): [-0.5729901757299004, -0.3659987071751775], (12, 1, False): [-0.7653434890874465, -0.5241884150222782], (16, 10, True): [-0.5683572216097007, -0.261375025055121], (19, 10, True): [0.0056707954036710655, -0.16280904786954237], (13, 1, False): [-0.7785381026438581, -0.5603061224489827], (8, 1, False): [-0.7786561264822132, -0.4069675376088675], (21, 6, False): [0.9043273013375323, 0], (9, 6, False): [-0.13107822410148012, 0.20486223662884961], (18, 1, False): [-0.36878968995143796, -0.7134278164785014], (20, 4, False): [0.6619618913196887, -0.8472527472527482], (18, 5, False): [0.18590231698031143, -0.6241643971280023], (17, 10, True): [-0.4583447896618089, -0.23212996389891774], (13, 10, True): [-0.5743280307185975, -0.16156282998944035], (9, 10, False): [-0.5811575680116885, -0.21085544776717693], (6, 6, False): [-0.14734480179506348, -0.007570543702684093], (15, 6, True): [-0.1136107986501687, 0.07236268526591103], (11, 10, False): [-0.5728088336783977, 0.04970334713981881], (19, 8, False): [0.5901312036508859, -0.7123287671232872], (15, 4, False): [-0.21012658227848038, -0.40378606873736433], (14, 3, False): [-0.23000304909035404, -0.33046784592494716], (20, 9, False): [0.7535290796160367, -0.8484685652874805], (13, 9, True): [-0.531550802139037, -0.09504550050556108], (20, 10, True): [0.43094453596924703, -0.043514644351464404], (19, 7, False): [0.6234676007005254, -0.719699080523823], (17, 7, False): [-0.10387340141687319, -0.5016812373907168], (20, 8, False): [0.7850169932750043, -0.8579499596448774], (7, 7, False): [-0.46461876028524474, -0.08565310492505343], (21, 8, True): [0.9870755750273827, 0.22819163666574352], (20, 1, False): [0.15308711587256787, -0.8841136894137022], (10, 8, False): [-0.5328050713153719, 0.16994344196067881], (18, 10, True): [-0.24683714670255744, -0.20488128839448785], (17, 2, False): [-0.16138563423331587, -0.5419675090252697], (9, 1, False): [-0.7664605311022188, -0.33301282051282066], (21, 2, False): [0.8828947368421054, 0], (18, 7, False): [0.38789453425711945, -0.569810391529181], (17, 9, False): [-0.4255415571467419, -0.5445197987311304], (11, 5, False): [-0.14150681123158176, 0.29164795689267997], (18, 4, False): [0.1855464420305913, -0.6173680369739726], (13, 3, True): [-0.20962199312714763, 0.0710441334768568], (20, 2, False): [0.6333231052470084, -0.8521165475536014], (12, 9, False): [-0.5512295081967237, -0.33856098336335805], (15, 8, False): [-0.517155555555556, -0.40971272229822125], (6, 8, False): [-0.5550692924872359, -0.23229461756373904], (11, 8, False): [-0.5167895167895172, 0.22439457898244788], (17, 5, False): [-0.05740721270108301, -0.5345843334060646], (19, 5, False): [0.43197755960729306, -0.7322877230935636], (5, 2, False): [-0.254201680672269, -0.1271186440677967], (15, 7, False): [-0.4828326180257514, -0.37898338220918665], (17, 8, False): [-0.3928672249929427, -0.4967948717948731], (21, 1, True): [0.6767676767676759, -0.10569105691056915], (10, 1, False): [-0.7821909032671377, -0.2186234817813763], (19, 10, False): [-0.018568022541723725, -0.7404427942794277], (13, 4, False): [-0.2187666987282237, -0.2599567767829565], (14, 1, False): [-0.7703958691910505, -0.5897691082802571], (14, 9, True): [-0.5411255411255416, -0.07170923379174857], (17, 4, False): [-0.07535599210061344, -0.519898391193902], (13, 8, False): [-0.5129404427814143, -0.3231681490893682], (16, 3, False): [-0.2412202536953559, -0.4702013155272069], (19, 9, True): [0.31026392961876886, 0.004102564102564103], (16, 7, False): [-0.4878738884397736, -0.4078180254229193], (8, 7, False): [-0.44839400428265613, 0.07962813257881966], (19, 2, False): [0.38808091853471777, -0.7222690255546208], (21, 2, True): [0.9714727996461747, 0.2292600896860988], (20, 5, False): [0.6693605335425643, -0.8521069692058355], (8, 6, False): [-0.15074496056091152, 0.08419792498004798], (21, 1, False): [0.6353046594982067, 0], (13, 5, False): [-0.17672818267125415, -0.268312101910828], (15, 1, False): [-0.772955523672883, -0.6332525448376144], (9, 9, False): [-0.5583364004416652, -0.05557393317896125], (9, 5, False): [-0.18124769287560014, 0.14234644133896673], (13, 3, False): [-0.25818862431111633, -0.30675332910589626], (14, 1, True): [-0.8065241844769407, -0.33779904306220104], (15, 6, False): [-0.14107161151521352, -0.38971928545388346], (12, 8, False): [-0.5131695767978662, -0.2793047256925578], (21, 7, True): [0.9838322045007649, 0.2981298129812977], (21, 9, True): [0.9878309137489338, 0.1349054017000272], (16, 9, True): [-0.540816326530612, -0.15536277602523677], (14, 8, False): [-0.5024243437552258, -0.37290179917579735], (19, 8, True): [0.5873297809354653, 0.1459183673469388], (18, 6, True): [0.2667569397427215, 0.20067264573991017], (7, 6, False): [-0.16331096196868028, 0.022633744855967163], (21, 3, True): [0.9733072916666671, 0.2610354223433252], (11, 4, False): [-0.20605550883095058, 0.30274003118734605], (21, 8, False): [0.9324168058589238, 0], (20, 9, True): [0.7362397820163495, 0.04842342342342329], (8, 10, False): [-0.584052430365922, -0.29879805304460144], (19, 6, True): [0.5457373988799009, 0.2674805771365149], (7, 8, False): [-0.49837486457204755, -0.21076923076923065], (6, 9, False): [-0.5646643109540642, -0.2965277777777777], (19, 3, False): [0.41305314654213976, -0.7412376779846682], (15, 2, True): [-0.2796697626418985, -0.015748031496063006], (13, 2, False): [-0.29274764150943317, -0.29556328838625445], (14, 2, True): [-0.3474860335195535, -0.0143815915627996], (17, 5, True): [-0.05372807017543864, 0.11676217765042991], (6, 5, False): [-0.16268656716417906, -0.06568832983927331], (19, 7, True): [0.5754775107825014, 0.2668213457076566], (11, 3, False): [-0.23358862144420112, 0.24848212277940163], (6, 1, False): [-0.7426035502958597, -0.5203716940671902], (15, 5, False): [-0.18113207547169874, -0.39484126984127005], (12, 5, False): [-0.17441247760564796, -0.20650095602294435], (14, 8, True): [-0.4815618221258134, 0.04880478087649402], (4, 2, False): [-0.2255319148936171, -0.14831460674157293], (9, 2, False): [-0.308211873444721, 0.09233728759217699], (6, 2, False): [-0.3061527057079321, -0.14736842105263176], (13, 6, False): [-0.1628883291351813, -0.23981829573934874], (19, 1, False): [-0.1255946717411988, -0.7876130446697744], (12, 8, True): [-0.5102974828375284, 0.06593406593406598], (17, 7, True): [-0.11235955056179785, 0.05860534124629083], (18, 9, False): [-0.17779437856008917, -0.5898494414764449], (15, 9, False): [-0.5146503685062006, -0.4774749195532835], (18, 9, True): [-0.198142414860681, -0.122549019607843], (7, 9, False): [-0.5258525852585263, -0.25818373812038037], (19, 4, False): [0.4288620183071525, -0.7231324632046641], (21, 4, True): [0.9784668389319555, 0.2881641833005343], (20, 3, False): [0.6370686926242476, -0.8625522166823884], (7, 4, False): [-0.1902879728966686, -0.048223350253807126], (21, 4, False): [0.879975220690724, 0], (16, 7, True): [-0.46222222222222215, 0.05789909015715469], (8, 2, False): [-0.3351327035537556, 0.011948908117016903], (16, 2, True): [-0.2670270270270271, -0.05148205928237137], (19, 9, False): [0.2857417371252881, -0.7052781740370905], (15, 3, False): [-0.24809396249742383, -0.4123317570025467], (8, 3, False): [-0.25548060708263065, 0.026907630522088357], (20, 3, True): [0.666082895504962, 0.23060109289617478], (18, 3, True): [0.18218352310783653, 0.11643835616438353], (10, 5, False): [-0.186562296151337, 0.2516521279407879], (17, 6, True): [0.025227043390514636, 0.165244375484872], (21, 7, False): [0.924895158215783, 0], (6, 10, False): [-0.576021798365124, -0.36652542372881347], (4, 10, False): [-0.5599778883360976, -0.342950462710942], (16, 8, True): [-0.4989154013015184, -0.08462732919254658], (16, 4, False): [-0.21151623410738665, -0.43913307676726787], (15, 9, True): [-0.5414847161572054, -0.06379155435759219], (18, 2, True): [0.05646036916395217, 0.07903549899531134], (18, 8, False): [0.09941740274384482, -0.6046957355055097], (9, 3, False): [-0.2437923250564333, 0.08416639793614955], (20, 8, True): [0.7938671209540037, 0.129787234042553], (12, 6, False): [-0.17149220489977746, -0.17179118147324354], (5, 10, False): [-0.5668228162028105, -0.3568464730290461], (15, 3, True): [-0.22907488986784133, 0.041478809738503146], (7, 2, False): [-0.31390874106651984, -0.13279678068410475], (10, 4, False): [-0.2171732999059855, 0.23944414751469817], (21, 6, True): [0.9768339768339774, 0.3411830670030839], (13, 6, True): [-0.1361200428724542, 0.15602836879432658], (20, 7, False): [0.7704710272477656, -0.8535778298635043], (4, 5, False): [-0.12121212121212119, -0.028888888888888905], (15, 1, True): [-0.7631887456037513, -0.38413547237076634], (12, 3, True): [-0.2891832229580573, 0.15991471215351802], (5, 9, False): [-0.5328142380422694, -0.21260683760683774], (20, 7, True): [0.7696132596685091, 0.24972375690607743], (20, 6, True): [0.7032221594120985, 0.25299890948745923], (16, 6, True): [-0.14760914760914762, 0.08489096573208718], (20, 2, True): [0.6360194699837746, 0.18546637744034708], (13, 2, True): [-0.3422519509476034, 0.0357142857142857], (10, 3, False): [-0.2436061381074172, 0.2116689280868381], (17, 3, True): [-0.09723756906077324, 0.023529411764705892], (8, 5, False): [-0.17112299465240657, 0.05237904838064782], (21, 5, False): [0.894202423845396, 0], (13, 4, True): [-0.20344456404736275, 0.09304812834224602], (15, 7, True): [-0.4938956714761383, -0.029203539823008856], (8, 9, False): [-0.5331610680447886, -0.1779794790844514], (7, 1, False): [-0.7842190016103062, -0.49049049049049015], (15, 8, True): [-0.5189309576837421, -0.024434389140271448], (7, 3, False): [-0.23102678571428578, -0.06761177753544159], (12, 4, True): [-0.16071428571428573, 0.09216589861751147], (14, 3, True): [-0.24882629107981222, 0.05079962370649105], (10, 2, False): [-0.30579029733959334, 0.17273193234238884], (21, 3, False): [0.8872755659640899, 0], (20, 5, True): [0.673375503162738, 0.2172043010752688], (13, 5, True): [-0.11403508771929853, 0.13453389830508478], (17, 1, True): [-0.6635514018691595, -0.3710879284649778], (14, 7, False): [-0.48338368580060476, -0.31493440968718395], (9, 7, False): [-0.4716428832784484, 0.14229765013054857], (5, 7, False): [-0.44648648648648664, -0.08416389811738657], (10, 6, False): [-0.12172284644194732, 0.263806970509383], (5, 4, False): [-0.17752808988764066, -0.055803571428571404], (16, 4, True): [-0.1911111111111112, 0.031595576619273306], (13, 8, True): [-0.5272331154684091, 0.1010989010989011], (9, 4, False): [-0.2160356347438756, 0.08472873409243133], (16, 3, True): [-0.21638655462184891, 0.01444622792937399], (17, 2, True): [-0.17583603020496244, -0.020209580838323315], (12, 2, False): [-0.29783884356662427, -0.26347114464874116], (20, 1, True): [0.14736269711799918, -0.25081433224755717], (19, 1, True): [-0.09074837949322317, -0.18006430868167203], (6, 3, False): [-0.20923306031273245, -0.0879501385041552], (17, 9, True): [-0.44756756756756755, -0.15881073241479335], (4, 9, False): [-0.5010570824524311, -0.2407407407407407], (5, 3, False): [-0.3415178571428575, -0.11124260355029597], (18, 7, True): [0.4001322751322754, 0.14855875831485596], (5, 1, False): [-0.7513513513513514, -0.43584070796460184], (17, 4, True): [-0.10682819383259916, 0.07465900933237611], (19, 5, True): [0.43314139475367874, 0.19148936170212794], (8, 8, False): [-0.5176579925650558, -0.024499795835034793], (18, 8, True): [0.12151898734177219, -0.0010775862068965396], (14, 7, True): [-0.4555433589462128, 0.12660731948565768], (4, 4, False): [-0.26315789473684215, -0.05274261603375529], (14, 6, True): [-0.11447084233261341, 0.14671814671814687], (12, 1, True): [-0.7876543209876539, -0.3002207505518763], (7, 5, False): [-0.18564920273348512, -0.013930348258706454], (4, 1, False): [-0.7085201793721977, -0.43451143451143454], (14, 5, True): [-0.16163793103448268, 0.06931702344546378], (6, 7, False): [-0.49051094890510916, -0.17524339360222566], (12, 9, True): [-0.5135135135135132, -0.0623700623700624], (12, 6, True): [-0.28444444444444444, 0.14062499999999992], (4, 8, False): [-0.47391304347826085, -0.11009174311926609], (18, 1, True): [-0.32853285328532866, -0.3016367887763057], (14, 4, True): [-0.25296017222820233, 0.07267709291628331], (5, 5, False): [-0.15638766519823802, -0.015772870662460595], (6, 4, False): [-0.1753484959647834, -0.09537572254335255], (16, 5, True): [-0.21392016376663267, 0.05483870967741932], (12, 5, True): [-0.23505976095617528, 0.19791666666666669], (18, 4, True): [0.15643180349062707, 0.12307692307692313], (19, 2, True): [0.35331781140861485, 0.12085561497326201], (17, 8, True): [-0.38257993384785005, -0.06357516828721009], (4, 3, False): [-0.2675438596491227, -0.035794183445190135], (13, 1, True): [-0.7706013363028954, -0.3102702702702703], (15, 4, True): [-0.20224719101123606, 0.06672443674176763], (4, 7, False): [-0.4760820045558085, -0.10222222222222228], (15, 5, True): [-0.13071200850159395, 0.038175046554934866], (5, 8, False): [-0.44175317185697804, -0.14089347079037795], (12, 7, True): [-0.3802816901408451, 0.24222222222222206], (12, 2, True): [-0.35655737704918034, 0.1476091476091477], (4, 6, False): [-0.1339285714285713, 0.06823529411764703]}\n"
     ]
    }
   ],
   "source": [
    "print(policy.q_est)"
   ]
  },
  {
   "cell_type": "code",
   "execution_count": null,
   "metadata": {},
   "outputs": [],
   "source": []
  }
 ],
 "metadata": {
  "kernelspec": {
   "display_name": "Python 3 (ipykernel)",
   "language": "python",
   "name": "python3"
  },
  "language_info": {
   "codemirror_mode": {
    "name": "ipython",
    "version": 3
   },
   "file_extension": ".py",
   "mimetype": "text/x-python",
   "name": "python",
   "nbconvert_exporter": "python",
   "pygments_lexer": "ipython3",
   "version": "3.9.7"
  }
 },
 "nbformat": 4,
 "nbformat_minor": 4
}
